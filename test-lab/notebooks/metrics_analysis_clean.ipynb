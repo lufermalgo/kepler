{
 "cells": [
  {
   "cell_type": "markdown",
   "metadata": {},
   "source": [
    "# Análisis de Métricas - Kepler Framework"
   ]
  },
  {
   "cell_type": "code",
   "execution_count": 1,
   "metadata": {},
   "outputs": [],
   "source": [
    "import kepler as kp"
   ]
  },
  {
   "cell_type": "markdown",
   "metadata": {},
   "source": [
    "## Explorar métricas disponibles"
   ]
  },
  {
   "cell_type": "code",
   "execution_count": 2,
   "metadata": {},
   "outputs": [
    {
     "name": "stdout",
     "output_type": "stream",
     "text": [
      "✅ Extracted 1 records from Splunk\n",
      "Métricas encontradas: 1\n"
     ]
    }
   ],
   "source": [
    "# Listar nombres de métricas\n",
    "metricas = kp.data.from_splunk(\n",
    "    spl='| mcatalog values(metric_name) WHERE index=kepler_metrics'\n",
    ")\n",
    "print(f\"Métricas encontradas: {len(metricas)}\")"
   ]
  },
  {
   "cell_type": "markdown",
   "metadata": {},
   "source": [
    "## Datos recientes (últimas 24h)"
   ]
  },
  {
   "cell_type": "code",
   "execution_count": 6,
   "metadata": {},
   "outputs": [
    {
     "name": "stdout",
     "output_type": "stream",
     "text": [
      "✅ Extracted 16 records from Splunk\n",
      "Métricas con datos recientes: 16\n"
     ]
    }
   ],
   "source": [
    "# Últimos valores de cada métrica\n",
    "recientes = kp.data.from_splunk(\n",
    "    spl='| mstats latest(_value) as valor WHERE index=kepler_metrics metric_name=* earliest=-30d by metric_name'\n",
    ")\n",
    "print(f\"Métricas con datos recientes: {len(recientes)}\")"
   ]
  },
  {
   "cell_type": "markdown",
   "metadata": {},
   "source": [
    "## Series temporales (último mes)"
   ]
  },
  {
   "cell_type": "code",
   "execution_count": 7,
   "metadata": {},
   "outputs": [
    {
     "name": "stdout",
     "output_type": "stream",
     "text": [
      "✅ Extracted 275 records from Splunk\n",
      "Puntos temporales: 275\n"
     ]
    }
   ],
   "source": [
    "# Series temporales por hora\n",
    "series = kp.data.from_splunk(\n",
    "    spl='| mstats avg(_value) as promedio WHERE index=kepler_metrics metric_name=* earliest=-30d span=1h by metric_name'\n",
    ")\n",
    "print(f\"Puntos temporales: {len(series)}\")"
   ]
  },
  {
   "cell_type": "markdown",
   "metadata": {},
   "source": [
    "## Análisis estadístico"
   ]
  },
  {
   "cell_type": "code",
   "execution_count": 8,
   "metadata": {},
   "outputs": [
    {
     "name": "stdout",
     "output_type": "stream",
     "text": [
      "                                    mean         std         min          max\n",
      "metric_name                                                                  \n",
      "flow_rate.SENSOR_003          292.108820   69.112082  135.237647   438.605119\n",
      "power_consumption.SENSOR_002  659.077834  181.263732  451.300832   866.551981\n",
      "power_consumption.SENSOR_003  637.272529  178.968520  453.024178   866.476096\n",
      "power_consumption.SENSOR_004  893.237240  197.204600  440.547152  1224.130895\n",
      "power_consumption.SENSOR_007  897.164458  197.985442  431.919714  1286.229799\n"
     ]
    }
   ],
   "source": [
    "if len(series) > 0:\n",
    "    import pandas as pd\n",
    "    series[\"promedio\"] = pd.to_numeric(series[\"promedio\"], errors=\"coerce\")\n",
    "    stats = series.groupby(\"metric_name\")[\"promedio\"].agg([\"mean\", \"std\", \"min\", \"max\"])\n",
    "    print(stats.head())"
   ]
  }
 ],
 "metadata": {
  "kernelspec": {
   "display_name": ".venv",
   "language": "python",
   "name": "python3"
  },
  "language_info": {
   "codemirror_mode": {
    "name": "ipython",
    "version": 3
   },
   "file_extension": ".py",
   "mimetype": "text/x-python",
   "name": "python",
   "nbconvert_exporter": "python",
   "pygments_lexer": "ipython3",
   "version": "3.13.4"
  }
 },
 "nbformat": 4,
 "nbformat_minor": 4
}
